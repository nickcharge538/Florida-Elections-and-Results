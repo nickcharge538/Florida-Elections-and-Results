{
 "cells": [
  {
   "cell_type": "code",
   "execution_count": 19,
   "id": "0e2b27fa-c47c-4fd4-9468-a2473afd76b7",
   "metadata": {},
   "outputs": [],
   "source": [
    "from datetime import datetime as dt\n",
    "import re\n",
    "import os\n",
    "import time\n",
    "\n",
    "from selenium import webdriver\n",
    "from selenium.webdriver.common.by import By\n",
    "from selenium.webdriver.support.ui import Select\n",
    "from selenium.webdriver.chrome.options import Options\n",
    "\n",
    "\n",
    "from selenium.webdriver.support.ui import WebDriverWait\n",
    "from selenium.webdriver.support import expected_conditions as EC"
   ]
  },
  {
   "cell_type": "markdown",
   "id": "71017f41-e1c3-45a4-9b08-012eba8362dc",
   "metadata": {},
   "source": [
    "## Overview - Using Selenium to scrape Florida Election winners from 1996-current"
   ]
  },
  {
   "cell_type": "markdown",
   "id": "e6a33445-d5f4-41f7-bcdc-3aa3950d40f9",
   "metadata": {},
   "source": [
    "# Setup\n",
    "#### Setting up driver with download path/options"
   ]
  },
  {
   "cell_type": "code",
   "execution_count": 47,
   "id": "fc88c066-6a52-4df7-9d53-325e4d11b989",
   "metadata": {},
   "outputs": [],
   "source": [
    "# Set up Chrome options for automated downloads\n",
    "chrome_options = Options()\n",
    "download_path = \"\"  # put what is relevant for you\n",
    "# originally set custom download path, but defaulted to download file to reduce unneccesary bug fixing\n",
    "chrome_options.add_experimental_option(\"prefs\", {\n",
    "    \"download.default_directory\": download_path,\n",
    "    \"download.prompt_for_download\": False,\n",
    "    \"safebrowsing.enabled\": True\n",
    "})\n",
    "\n",
    "driver = webdriver.Chrome(options=chrome_options)"
   ]
  },
  {
   "cell_type": "markdown",
   "id": "4e9d9137-bc4b-4dac-9a8f-f127c2babffe",
   "metadata": {},
   "source": [
    "#### Loading initial URL, switching to the correct frame"
   ]
  },
  {
   "cell_type": "code",
   "execution_count": 50,
   "id": "142c715b-95aa-4199-81f7-600ad3e79f09",
   "metadata": {},
   "outputs": [],
   "source": [
    "driver.get(\"https://results.elections.myflorida.com/\")\n",
    "driver.switch_to.frame(\"WinRaces\")"
   ]
  },
  {
   "cell_type": "markdown",
   "id": "fd5cdf52-b0d6-457a-bc76-b204458b6c54",
   "metadata": {
    "scrolled": true
   },
   "source": [
    "#### Getting list of relevant elections from drop down element"
   ]
  },
  {
   "cell_type": "code",
   "execution_count": 36,
   "id": "4474bb46-1310-4d13-9ad6-06d8328fd997",
   "metadata": {},
   "outputs": [
    {
     "name": "stdout",
     "output_type": "stream",
     "text": [
      "2024 Primary Election\n",
      "2022 General Election\n",
      "2022 Primary Election\n",
      "2020 General Election\n",
      "2020 Primary Election\n",
      "2018 General Election\n",
      "2018 Primary Election\n",
      "2016 General Election\n",
      "2016 Primary Election\n",
      "2014 General Election\n",
      "2014 Primary Election\n",
      "2012 General Election\n",
      "2012 Primary Election\n",
      "2010 General\n",
      "2010 Primary\n",
      "2008 General\n",
      "2008 Primary\n",
      "2006 General\n",
      "2006 Primary\n",
      "2004 General\n",
      "2004 Primary\n",
      "2002 General\n",
      "2002 Primary\n",
      "2000 General\n",
      "2000 Runoff\n",
      "2000 Primary\n",
      "1998 General\n",
      "1998 Runoff\n",
      "1998 Primary\n",
      "1996 General\n",
      "1996 Runoff\n",
      "1996 Primary\n"
     ]
    }
   ],
   "source": [
    "dropdown_element = Select(driver.find_element(By.NAME, 'SelectElection'))\n",
    "\n",
    "list_of_elections = [option.text for option in dropdown_element.options]\n",
    "list_of_elections2 = list_of_elections[1:-31] # removing all elections before 1996\n",
    "\n",
    "\n",
    "relevant_elections = []\n",
    "for year in list_of_elections2:\n",
    "    if year.count(\"Pres\") == 0 :   ## this is done to filter out presidential primaries \n",
    "        relevant_elections.append(year)\n",
    "    \n",
    "for elect in relevant_elections:\n",
    "    print(elect)"
   ]
  },
  {
   "cell_type": "markdown",
   "id": "1febde98",
   "metadata": {},
   "source": [
    "# Main Loop\n",
    "#### Goes through each election option above by\n",
    "1. Selecting next relevant election in drop down menu\n",
    "2. Navigating to each election's relevant Download page\n",
    "3. Downloading and renaming the file to be easier to read\n",
    "4. Resetting the driver to the election selection page to prepare for the next loop"
   ]
  },
  {
   "cell_type": "code",
   "execution_count": 39,
   "id": "2a44aa14",
   "metadata": {
    "scrolled": true
   },
   "outputs": [],
   "source": [
    "is_runoff = True \n",
    "for election in relevant_elections:\n",
    "    \n",
    "    dropdown_element.select_by_visible_text(election)\n",
    "    \n",
    "    \n",
    "    #updating the driver to the new URL and finding relevant elements\n",
    "    driver.get(driver.current_url)\n",
    "    time.sleep(2)\n",
    "    driver.switch_to.frame(\"WinRaces\")\n",
    "    dropdown_element = Select(driver.find_element(By.NAME, 'SelectElection'))\n",
    "    partial_link = driver.find_element(By.PARTIAL_LINK_TEXT, \"Download\")\n",
    "    \n",
    "    #clicking \"Donwload\" to go to each election's download page, updating driver to new window\n",
    "    partial_link.click()\n",
    "    time.sleep(2)\n",
    "    driver.switch_to.window(driver.window_handles[1])\n",
    "    download_button = driver.find_element(By.CSS_SELECTOR, 'input[type=\"SUBMIT\"][name=\"FormsButton2\"][value=\"Download\"]')\n",
    "    #download_button.click()\n",
    "    \n",
    "  \n",
    "    #extracting relevant information from substring to determine standard download name and replacement download name\n",
    "        #website downloads all files by naming them by corresponding election date ex: '11082022Election.txt'\n",
    "    election_date_url = driver.current_url\n",
    "\n",
    "    match = re.search(r\"ElectionDate=([^&]*)&DATA\", election_date_url)\n",
    "    if match:\n",
    "        election_date = match.group(1)\n",
    "    else:\n",
    "        print(\"No match found\")\n",
    "        print(\"No match found\")\n",
    "            # Reformatting the  to MM/DD/YYYY with leading zeros\n",
    "    date_obj = dt.strptime(election_date, \"%m/%d/%Y\")\n",
    "    standardized_date = date_obj.strftime(\"%m/%d/%Y\")\n",
    "    og_file_name = standardized_date.replace(\"/\",\"\") + \"Election.txt\"\n",
    "    new_file_name = election.replace(\" \",'').replace(\"Election\",\"\") + \".txt\"\n",
    "\n",
    "    #downloading and renaming file\n",
    "\n",
    "    download_button.click()\n",
    "    time.sleep(2)\n",
    "    original_file = os.path.join(download_path, og_file_name)  #original file that will be replaced\n",
    "    new_file = os.path.join(download_path, new_file_name)\n",
    "\n",
    "    if os.path.exists(original_file):  ## replacing old file name with proper file name\n",
    "        os.rename(original_file, new_file)\n",
    "    else:\n",
    "        print(\"Download failed or file not found.\")\n",
    "\n",
    "    #closing download tab and updating to elections tab\n",
    "    driver.close()\n",
    "    driver.switch_to.window(driver.window_handles[0])\n",
    "    driver.switch_to.frame(\"WinRaces\")\n",
    "    dropdown_element = Select(driver.find_element(By.NAME,'SelectElection'))\n",
    "\n",
    "    \n",
    "    #"
   ]
  },
  {
   "cell_type": "code",
   "execution_count": 52,
   "id": "2d15ecb8-9f9e-4e85-ac65-0bdfff2c7575",
   "metadata": {},
   "outputs": [],
   "source": [
    "driver.close()"
   ]
  },
  {
   "cell_type": "markdown",
   "id": "8e91fca6-6b36-453d-bb80-1e89fd843758",
   "metadata": {
    "jp-MarkdownHeadingCollapsed": true
   },
   "source": [
    "# Testing"
   ]
  },
  {
   "cell_type": "markdown",
   "id": "e46e1ee9",
   "metadata": {},
   "source": [
    "#### Single test setting below\n",
    "series of tests to create the for loop functionality for a single option"
   ]
  },
  {
   "cell_type": "code",
   "execution_count": 13,
   "id": "40fd3cc0-07d0-4f08-9fbe-77033cd7ddc1",
   "metadata": {},
   "outputs": [],
   "source": [
    "dropdown_element.select_by_visible_text(relevant_elections[0])\n",
    "time.sleep(1)\n",
    "driver.get(driver.current_url)\n",
    "time.sleep(2)\n",
    "driver.switch_to.frame(\"WinRaces\")\n",
    "dropdown_element = Select(driver.find_element(By.NAME, 'SelectElection'))"
   ]
  },
  {
   "cell_type": "code",
   "execution_count": 14,
   "id": "f97f9418-d8a8-429b-8b26-36a4de8af3da",
   "metadata": {},
   "outputs": [],
   "source": [
    "partial_link = driver.find_element(By.PARTIAL_LINK_TEXT, \"Download\")\n",
    "partial_link.click()"
   ]
  },
  {
   "cell_type": "code",
   "execution_count": 17,
   "id": "c74f0098-5f34-4880-a489-fa38279b4421",
   "metadata": {},
   "outputs": [],
   "source": [
    "driver.switch_to.window(driver.window_handles[1])\n"
   ]
  },
  {
   "cell_type": "code",
   "execution_count": 19,
   "id": "fa495710-1128-47a6-9323-ab301e66bb86",
   "metadata": {},
   "outputs": [],
   "source": [
    "download_button = driver.find_element(By.CSS_SELECTOR, 'input[type=\"SUBMIT\"][name=\"FormsButton2\"][value=\"Download\"]')\n",
    "download_button.click()"
   ]
  },
  {
   "cell_type": "code",
   "execution_count": 21,
   "id": "9f9fa37e-e146-4032-bd99-c79df9a7fb8c",
   "metadata": {},
   "outputs": [
    {
     "name": "stdout",
     "output_type": "stream",
     "text": [
      "Original Date: 11/8/2022\n",
      "Standardized Date:  11/08/2022\n"
     ]
    }
   ],
   "source": [
    "## extracting the date substring from current URL, renaming file\n",
    "election_date_url = driver.current_url\n",
    "\n",
    "match = re.search(r\"ElectionDate=([^&]*)&DATA\", election_date_url)\n",
    "\n",
    "if match:\n",
    "    election_date = match.group(1)\n",
    "    print(\"Original Date:\",election_date)\n",
    "else:\n",
    "    print(\"No match found\")\n",
    "\n",
    "# Reformatting the  to MM/DD/YYYY with leading zeros\n",
    "date_obj = dt.strptime(election_date, \"%m/%d/%Y\")\n",
    "# Reformat to MM/DD/YYYY with leading zeros\n",
    "standardized_date = date_obj.strftime(\"%m/%d/%Y\")\n",
    "print(\"Standardized Date: \", standardized_date)"
   ]
  },
  {
   "cell_type": "code",
   "execution_count": 23,
   "id": "9cc473f7-4303-4799-ab5b-67b6c6da10b9",
   "metadata": {},
   "outputs": [
    {
     "name": "stdout",
     "output_type": "stream",
     "text": [
      "11082022Election.txt\n"
     ]
    }
   ],
   "source": [
    "og_file_name = standardized_date.replace(\"/\",\"\") + \"Election.txt\"\n",
    "print(og_file_name)"
   ]
  },
  {
   "cell_type": "markdown",
   "id": "8b3a993e-b8ab-4266-9979-89687f6bb571",
   "metadata": {},
   "source": [
    "#### Functionality tests\n",
    "1. changing drop down menu options and updating elements to correspond with the new URL\n",
    "2. incorporating above features into loop\n",
    "3. extracting URL date substrings in order to find the downloaded files and rename them "
   ]
  },
  {
   "cell_type": "code",
   "execution_count": null,
   "id": "ddfd2cd8-87a3-4ab1-abe0-20a1f6a765db",
   "metadata": {},
   "outputs": [],
   "source": [
    "## one by one selection\n",
    "dropdown_element.select_by_visible_text(relevant_elections[0])\n",
    "time.sleep(1)\n",
    "print(driver.current_url, \" \",relevant_elections[0])\n",
    "\n",
    "driver.get(driver.current_url)\n",
    "time.sleep(2)\n",
    "driver.switch_to.frame(\"WinRaces\")\n",
    "dropdown_element = Select(driver.find_element(By.NAME, 'SelectElection'))\n",
    "dropdown_element.select_by_visible_text(relevant_elections[1])\n",
    "print(driver.current_url,\" \",relevant_elections[1])"
   ]
  },
  {
   "cell_type": "code",
   "execution_count": null,
   "id": "52645cef-7ef1-414e-87ae-1ef50a156c9f",
   "metadata": {},
   "outputs": [],
   "source": [
    "##working for loop\n",
    "for election in relevant_elections:\n",
    "    dropdown_element.select_by_visible_text(election)\n",
    "    time.sleep(1)\n",
    "    driver.get(driver.current_url)\n",
    "    time.sleep(1)\n",
    "    driver.switch_to.frame(\"WinRaces\")\n",
    "    dropdown_element = Select(driver.find_element(By.NAME, 'SelectElection'))"
   ]
  },
  {
   "cell_type": "code",
   "execution_count": null,
   "id": "1dd3b4a0-ce9e-4cc6-a4a9-2b17a826e185",
   "metadata": {},
   "outputs": [],
   "source": [
    "## extracting the date substring from current URL, renaming file\n",
    "election_date_url = driver.current_url\n",
    "\n",
    "if match:\n",
    "    election_date = match.group(1)\n",
    "    print(\"Original Date:\",election_date)\n",
    "else:\n",
    "    print(\"No match found\")\n",
    "\n",
    "# Reformatting the  to MM/DD/YYYY with leading zeros\n",
    "date_obj = dt.strptime(election_date, \"%m/%d/%Y\")\n",
    "# Reformat to MM/DD/YYYY with leading zeros\n",
    "standardized_date = date_obj.strftime(\"%m/%d/%Y\")\n",
    "print(\"Standardized Date: \", standardized_date)"
   ]
  },
  {
   "cell_type": "code",
   "execution_count": null,
   "id": "330437be-40be-4167-8bfc-5ae743b1d067",
   "metadata": {},
   "outputs": [],
   "source": [
    "#file renaming logic\n",
    "\n",
    "original_file = os.path.join(download_path, \"'Expend.txt'\")  #original file that will be replaced\n",
    "    # the website downloads all files as 'Expend.txt' \n",
    "    \n",
    "    download_name = cycle.replace(' ','_').replace(':','').replace('/','&').strip() + '.txt' #actual file name\n",
    "    new_file = os.path.join(download_path, download_name)\n",
    "   \n",
    "    if os.path.exists(original_file):  ## replacing old file name with proper file name\n",
    "        os.rename(original_file, new_file)\n",
    "    else:\n",
    "        print(\"Download failed or file not found.\")"
   ]
  }
 ],
 "metadata": {
  "kernelspec": {
   "display_name": "Python 3 (ipykernel)",
   "language": "python",
   "name": "python3"
  },
  "language_info": {
   "codemirror_mode": {
    "name": "ipython",
    "version": 3
   },
   "file_extension": ".py",
   "mimetype": "text/x-python",
   "name": "python",
   "nbconvert_exporter": "python",
   "pygments_lexer": "ipython3",
   "version": "3.12.4"
  }
 },
 "nbformat": 4,
 "nbformat_minor": 5
}
