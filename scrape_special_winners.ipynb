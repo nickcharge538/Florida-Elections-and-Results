{
 "cells": [
  {
   "cell_type": "code",
   "execution_count": 1,
   "id": "0e2b27fa-c47c-4fd4-9468-a2473afd76b7",
   "metadata": {},
   "outputs": [],
   "source": [
    "from datetime import datetime as dt\n",
    "import re\n",
    "import os\n",
    "import time\n",
    "\n",
    "from selenium import webdriver\n",
    "from selenium.webdriver.common.by import By\n",
    "from selenium.webdriver.support.ui import Select\n",
    "from selenium.webdriver.chrome.options import Options\n",
    "\n",
    "\n",
    "from selenium.webdriver.support.ui import WebDriverWait\n",
    "from selenium.webdriver.support import expected_conditions as EC"
   ]
  },
  {
   "cell_type": "markdown",
   "id": "71017f41-e1c3-45a4-9b08-012eba8362dc",
   "metadata": {},
   "source": [
    "## Overview - Using Selenium to scrape Florida Special Election winners from 1996-current\n",
    "Done after scraping general election winners, uses the same framework"
   ]
  },
  {
   "cell_type": "markdown",
   "id": "e6a33445-d5f4-41f7-bcdc-3aa3950d40f9",
   "metadata": {},
   "source": [
    "# Setup\n",
    "#### Setting up driver with download path/options"
   ]
  },
  {
   "cell_type": "code",
   "execution_count": 5,
   "id": "fc88c066-6a52-4df7-9d53-325e4d11b989",
   "metadata": {},
   "outputs": [],
   "source": [
    "# Set up Chrome options for automated downloads\n",
    "chrome_options = Options()\n",
    "download_path = \"\"  # put what is relevant for you\n",
    "# originally set custom download path, but defaulted to download file to reduce unneccesary bug fixing\n",
    "chrome_options.add_experimental_option(\"prefs\", {\n",
    "    \"download.default_directory\": download_path,\n",
    "    \"download.prompt_for_download\": False,\n",
    "    \"safebrowsing.enabled\": True\n",
    "})\n",
    "\n",
    "driver = webdriver.Chrome(options=chrome_options)"
   ]
  },
  {
   "cell_type": "markdown",
   "id": "4e9d9137-bc4b-4dac-9a8f-f127c2babffe",
   "metadata": {},
   "source": [
    "#### Loading initial URL, switching to the correct frame"
   ]
  },
  {
   "cell_type": "code",
   "execution_count": 8,
   "id": "142c715b-95aa-4199-81f7-600ad3e79f09",
   "metadata": {},
   "outputs": [],
   "source": [
    "driver.get(\"https://results.elections.myflorida.com/Specials.asp\")\n",
    "driver.switch_to.frame(\"WinRaces\")"
   ]
  },
  {
   "cell_type": "markdown",
   "id": "fd5cdf52-b0d6-457a-bc76-b204458b6c54",
   "metadata": {
    "scrolled": true
   },
   "source": [
    "#### Getting list of relevant elections from drop down element"
   ]
  },
  {
   "cell_type": "code",
   "execution_count": 14,
   "id": "4474bb46-1310-4d13-9ad6-06d8328fd997",
   "metadata": {},
   "outputs": [],
   "source": [
    "dropdown_element = Select(driver.find_element(By.NAME, 'SelectElection'))\n",
    "\n",
    "list_of_elections = [option.text for option in dropdown_element.options]\n",
    "relevant_elections = list_of_elections[1:]\n"
   ]
  },
  {
   "cell_type": "markdown",
   "id": "1febde98",
   "metadata": {},
   "source": [
    "# Main Loop\n",
    "#### Goes through each election option above by\n",
    "1. Selecting next relevant election in drop down menu\n",
    "2. Navigating to each election's relevant Download page\n",
    "3. Downloading and renaming the file to be easier to read\n",
    "4. Resetting the driver to the election selection page to prepare for the next loop"
   ]
  },
  {
   "cell_type": "code",
   "execution_count": 16,
   "id": "2a44aa14",
   "metadata": {
    "scrolled": true
   },
   "outputs": [],
   "source": [
    "for election in relevant_elections:\n",
    "    \n",
    "    dropdown_element.select_by_visible_text(election)\n",
    "    \n",
    "    \n",
    "    #updating the driver to the new URL and finding relevant elements\n",
    "    driver.get(driver.current_url)\n",
    "    time.sleep(2)\n",
    "    driver.switch_to.frame(\"WinRaces\")\n",
    "    dropdown_element = Select(driver.find_element(By.NAME, 'SelectElection'))\n",
    "    partial_link = driver.find_element(By.PARTIAL_LINK_TEXT, \"Download\")\n",
    "    \n",
    "    #clicking \"Donwload\" to go to each election's download page, updating driver to new window\n",
    "    partial_link.click()\n",
    "    time.sleep(2)\n",
    "    driver.switch_to.window(driver.window_handles[1])\n",
    "    download_button = driver.find_element(By.CSS_SELECTOR, 'input[type=\"SUBMIT\"][name=\"FormsButton2\"][value=\"Download\"]')\n",
    "    #download_button.click()\n",
    "    \n",
    "  \n",
    "    #extracting relevant information from substring to determine standard download name and replacement download name\n",
    "        #website downloads all files by naming them by corresponding election date ex: '11082022Election.txt'\n",
    "    election_date_url = driver.current_url\n",
    "\n",
    "    match = re.search(r\"ElectionDate=([^&]*)&DATA\", election_date_url)\n",
    "    if match:\n",
    "        election_date = match.group(1)\n",
    "    else:\n",
    "        print(\"No match found\")\n",
    "        print(\"No match found\")\n",
    "            # Reformatting the  to MM/DD/YYYY with leading zeros\n",
    "    date_obj = dt.strptime(election_date, \"%m/%d/%Y\")\n",
    "    standardized_date = date_obj.strftime(\"%m/%d/%Y\")\n",
    "    og_file_name = standardized_date.replace(\"/\",\"\") + \"Election.txt\"\n",
    "    new_file_name = election.replace(\" - \",'_').replace(\" \",'_').replace(\"&\",\"and\").replace(\";\",\"\").replace(\":\",\"\")\n",
    "    new_file_name = new_file_name.replace(\"/\",\"_\").replace(',','-').replace(\"__\",'-')\n",
    "    new_file_name = new_file_name.replace(\"__\",\"_\") + \".txt\"\n",
    "\n",
    "      #downloading and renaming file\n",
    "\n",
    "    download_button.click()\n",
    "    time.sleep(2)\n",
    "    original_file = os.path.join(download_path, og_file_name)  #original file that will be replaced\n",
    "    new_file = os.path.join(download_path, new_file_name)\n",
    "\n",
    "    if os.path.exists(original_file):  ## replacing old file name with proper file name\n",
    "        os.rename(original_file, new_file)\n",
    "    else:\n",
    "        print(\"Download failed or file not found.\")\n",
    "    #closing download tab and updating to elections tab\n",
    "    driver.close()\n",
    "    driver.switch_to.window(driver.window_handles[0])\n",
    "    driver.switch_to.frame(\"WinRaces\")\n",
    "    dropdown_element = Select(driver.find_element(By.NAME,'SelectElection'))\n"
   ]
  },
  {
   "cell_type": "code",
   "execution_count": 18,
   "id": "2d15ecb8-9f9e-4e85-ac65-0bdfff2c7575",
   "metadata": {},
   "outputs": [],
   "source": [
    "driver.close()"
   ]
  },
  {
   "cell_type": "code",
   "execution_count": null,
   "id": "a363242d-abd0-4fdc-b6f3-d5a9f3ddf23c",
   "metadata": {},
   "outputs": [],
   "source": []
  }
 ],
 "metadata": {
  "kernelspec": {
   "display_name": "Python 3 (ipykernel)",
   "language": "python",
   "name": "python3"
  },
  "language_info": {
   "codemirror_mode": {
    "name": "ipython",
    "version": 3
   },
   "file_extension": ".py",
   "mimetype": "text/x-python",
   "name": "python",
   "nbconvert_exporter": "python",
   "pygments_lexer": "ipython3",
   "version": "3.12.4"
  }
 },
 "nbformat": 4,
 "nbformat_minor": 5
}
