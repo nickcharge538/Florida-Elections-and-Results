{
 "cells": [
  {
   "cell_type": "code",
   "execution_count": 172,
   "id": "c2911a49-b371-4db2-acf1-3f371ba9e76d",
   "metadata": {},
   "outputs": [],
   "source": [
    "import os\n",
    "import time\n",
    "from selenium import webdriver\n",
    "from selenium.webdriver.common.by import By\n",
    "from selenium.webdriver.support.ui import Select\n",
    "from selenium.webdriver.chrome.options import Options"
   ]
  },
  {
   "cell_type": "markdown",
   "id": "ef834bc3-82f2-4c0e-abf7-9ab1e1a6b898",
   "metadata": {},
   "source": [
    "### Setting up download path and url"
   ]
  },
  {
   "cell_type": "code",
   "execution_count": 223,
   "id": "6ba623ba-713f-45a2-8679-44a528bfca7f",
   "metadata": {},
   "outputs": [],
   "source": [
    "# Set up Chrome options for automated downloads\n",
    "chrome_options = Options()\n",
    "download_path = \"\"  # put what is relevant for you\n",
    "# originally set custom download path, but defaulted to download file to reduce unneccesary bug fixing\n",
    "chrome_options.add_experimental_option(\"prefs\", {\n",
    "    \"download.default_directory\": download_path,\n",
    "    \"download.prompt_for_download\": False,\n",
    "    \"safebrowsing.enabled\": True\n",
    "})"
   ]
  },
  {
   "cell_type": "code",
   "execution_count": 225,
   "id": "ff9d2ab2-bc11-45e0-9b6e-a07135253246",
   "metadata": {},
   "outputs": [],
   "source": [
    "driver = webdriver.Chrome(options=chrome_options)\n",
    "driver.get(\"https://dos.elections.myflorida.com/campaign-finance/expenditures/\")\n",
    "# Wait until elements are loaded (use WebDriverWait if necessary)\n",
    "time.sleep(2)"
   ]
  },
  {
   "cell_type": "markdown",
   "id": "4fc3f722-41fa-4ff0-846a-abe087277105",
   "metadata": {},
   "source": [
    "### Setting options on the webpage \n",
    "`1.To download query instead of display it`  \n",
    "`2.To show total expenditures for each candidate`  "
   ]
  },
  {
   "cell_type": "code",
   "execution_count": 227,
   "id": "0850c5b4-91ce-4806-9bec-d05246dc8df3",
   "metadata": {},
   "outputs": [],
   "source": [
    "radio_for_total_expenditures = driver.find_element(By.CSS_SELECTOR, \"input[type='radio'][name='search_on'][value='3']\")\n",
    "radio_for_total_expenditures.click();\n",
    "radio_for_query_format  = driver.find_element(By.CSS_SELECTOR, \"input[type='radio'][name='queryformat'][value='2']\")\n",
    "radio_for_query_format.click();"
   ]
  },
  {
   "cell_type": "markdown",
   "id": "2218b325-ad58-477c-88d0-770f01349d8d",
   "metadata": {
    "jp-MarkdownHeadingCollapsed": true
   },
   "source": [
    "### Finding Submit Button "
   ]
  },
  {
   "cell_type": "code",
   "execution_count": 231,
   "id": "6241b71c-a404-460c-9ab4-9fadbe0371cc",
   "metadata": {},
   "outputs": [],
   "source": [
    "#<input type=\"submit\" value=\"Submit\" name=\"Submit\">\n",
    "\n",
    "download_button = driver.find_element(By.CSS_SELECTOR, \"input[type='submit'][value='Submit'][name='Submit']\")"
   ]
  },
  {
   "cell_type": "markdown",
   "id": "1dde97e6-14c6-438c-a41f-d0ad7c0edd7c",
   "metadata": {
    "jp-MarkdownHeadingCollapsed": true
   },
   "source": [
    "### Scraping all of the relevant election year expenditure dates"
   ]
  },
  {
   "cell_type": "code",
   "execution_count": 234,
   "id": "91a00843-9b1d-4fd2-9b78-343d3568ea58",
   "metadata": {
    "scrolled": true
   },
   "outputs": [
    {
     "name": "stdout",
     "output_type": "stream",
     "text": [
      "2024 Special: Senate 24\n",
      "2024 Election\n",
      "2024 Special: House 35\n",
      "2023 Special: House 118\n",
      "2023 Special: House 24\n",
      "2022 Election\n",
      "2022 Special: STR 88 & 94 & ST\n",
      "2022 Special: US House 20\n",
      "2020 Special: Senate 20\n",
      "2020 Election\n",
      "2019 Special: H 7, 38 and 97\n",
      "2018 Special: Senate 23 and 25\n",
      "2018 Election\n",
      "2018 Special: House 39\n",
      "2018 Special: House 114\n",
      "2018 Special: Senate 31\n",
      "2018 Special: House 72\n",
      "2017 Special: House 58\n",
      "2017 Special: House 44\n",
      "2017 Special: House 116\n",
      "2017 Special: Senate 40\n",
      "2016 Election\n",
      "2015 Special: House 64\n",
      "2015 Special: S6, H17 and H24\n",
      "2015 Special: State House 13\n",
      "2014 General Election\n",
      "2014 Special: US House 19\n",
      "2014 Special: State House 44\n",
      "2014 Special: Congressional 13\n",
      "2013 Special: House 36\n",
      "2013 Special: State House 2\n",
      "2012 Special: Loxahatchee Rive\n",
      "2012 Special: CCJ 20 Group 23\n",
      "2012 General Election\n",
      "2011 Special: Senate 1\n",
      "2011 Special: House 110\n",
      "2011 Special: H103 / S33\n",
      "2010 General Election\n",
      "2010 Special: House 4\n",
      "2010 Special: Congressional 19\n",
      "2010 Special: House 58\n",
      "2009 Special: Senate 8\n",
      "2009 Special: House 84\n",
      "2009 Special: Senate 28\n",
      "2008 General Election\n",
      "2008 Special: House 55\n",
      "2008 Special: House 103\n",
      "2008 Special: House 32\n",
      "2008 Presidential Preference\n",
      "2007 Special: House 101\n",
      "2007 Special: House 34\n",
      "2007 Special: House 16\n",
      "2007 Senate 3 & House 24 & 43\n",
      "2007 Special: House 49\n",
      "2007 Special: House 3\n",
      "2006 General Election\n",
      "2005 Special: House 7\n",
      "2005 Special: Referendum\n",
      "2004 General Election\n",
      "2004 Special: House 91\n",
      "2003 Special: House 54\n",
      "2003 Special: House 13\n",
      "2003 Sp: Senate 26 & House 30\n",
      "2002 General Election\n",
      "2001 Special Congr 1 & House 1\n",
      "2001 Special Senate 6\n",
      "2001 Special Senate 18\n",
      "2000 General Election\n",
      "2000 Special House 86\n",
      "2000 Senate 34 & House 111,115\n",
      "1999 Special: House 15\n",
      "1999 Special: House 82\n",
      "1999 Senate 8 & House 17,35,61\n",
      "1998 General Election\n",
      "1998 Sp: Senate 29 & House 101\n",
      "1998 Sp: Senate 17 & House 66\n",
      "1997 Special: House 58\n",
      "1996 Sp: State Attorney Cir 7\n",
      "1996 Sp: Judicial Cir 2 Grp 2\n",
      "1996 General Election\n",
      "1996 Special: House 33\n"
     ]
    }
   ],
   "source": [
    "dropdown = Select(driver.find_element(By.NAME, \"election\"))\n",
    "\n",
    "# Store all dropdown options as a list of their visible text\n",
    "dropdown_options = [option.text for option in dropdown.options]\n",
    "#remove top options to narrow list down to elections which have been decided or will soon be decided (currently Halloween 2024)\n",
    "\n",
    "years_to_cycle  = dropdown_options[3:]\n",
    "for cycle in years_to_cycle:\n",
    "    print(cycle)"
   ]
  },
  {
   "cell_type": "markdown",
   "id": "ddf2f3f3-e7ac-40f4-bcde-947750c86c67",
   "metadata": {},
   "source": [
    "### Downloading revelant election expenditure files and renaming them based on their date"
   ]
  },
  {
   "cell_type": "code",
   "execution_count": 236,
   "id": "e318070b-20e4-46df-85a6-000b1bca393e",
   "metadata": {},
   "outputs": [],
   "source": [
    "for cycle in years_to_cycle:\n",
    "    dropdown.select_by_visible_text(cycle)\n",
    "    download_button.click()\n",
    "    time.sleep(3)\n",
    "\n",
    "    original_file = os.path.join(download_path, \"'Expend.txt'\")  #original file that will be replaced\n",
    "    # the website downloads all files as 'Expend.txt' \n",
    "    \n",
    "    download_name = cycle.replace(' ','_').replace(':','').replace('/','&').strip() + '.txt' #actual file name\n",
    "    new_file = os.path.join(download_path, download_name)\n",
    "   \n",
    "    if os.path.exists(original_file):  ## replacing old file name with proper file name\n",
    "        os.rename(original_file, new_file)\n",
    "    else:\n",
    "        print(\"Download failed or file not found.\")\n"
   ]
  },
  {
   "cell_type": "code",
   "execution_count": null,
   "id": "0f110164-470d-41a7-8c8d-8db64615b28b",
   "metadata": {},
   "outputs": [],
   "source": []
  },
  {
   "cell_type": "code",
   "execution_count": 239,
   "id": "31219523-36e7-480d-abb1-6dfa92008372",
   "metadata": {},
   "outputs": [],
   "source": [
    "driver.quit()"
   ]
  },
  {
   "cell_type": "markdown",
   "id": "224bff73-c4f2-48c8-88ed-9945dbcb4732",
   "metadata": {},
   "source": [
    "### tests below \n",
    "##### (not relevant for above code functionality, used to test features before implementing in loops)"
   ]
  },
  {
   "cell_type": "code",
   "execution_count": 131,
   "id": "0a19237c-5fec-49f9-a52e-ab3c97a80586",
   "metadata": {},
   "outputs": [
    {
     "name": "stdout",
     "output_type": "stream",
     "text": [
      "1996_Special_House_33\n",
      "1996_Special_House_33.txt\n"
     ]
    }
   ],
   "source": [
    "# test download\n",
    "# this cell was used to test the download functionality on one cycle before using the for loop for all\n",
    "dropdown.select_by_visible_text(years_to_cycle[-1])\n",
    "download_name = years_to_cycle[-1].replace(' ','_').replace(':','').strip()\n",
    "print(download_name)\n",
    "\n",
    "download_button.click()\n",
    "time.sleep(3)\n",
    "\n",
    "original_file = os.path.join(download_path, \"'Expend.txt'\")  # Replace with actual filename\n",
    "new_file_name = download_name + \".txt\"\n",
    "print(new_file_name)\n",
    "\n",
    "new_file = os.path.join(download_path, new_file_name)\n",
    "\n",
    "if os.path.exists(original_file):\n",
    "    os.rename(original_file, new_file)\n",
    "else:\n",
    "    print(\"Download failed or file not found.\")"
   ]
  }
 ],
 "metadata": {
  "kernelspec": {
   "display_name": "Python 3 (ipykernel)",
   "language": "python",
   "name": "python3"
  },
  "language_info": {
   "codemirror_mode": {
    "name": "ipython",
    "version": 3
   },
   "file_extension": ".py",
   "mimetype": "text/x-python",
   "name": "python",
   "nbconvert_exporter": "python",
   "pygments_lexer": "ipython3",
   "version": "3.12.4"
  }
 },
 "nbformat": 4,
 "nbformat_minor": 5
}
